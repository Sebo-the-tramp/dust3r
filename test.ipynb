{
 "cells": [
  {
   "cell_type": "code",
   "execution_count": 1,
   "metadata": {},
   "outputs": [
    {
     "ename": "ModuleNotFoundError",
     "evalue": "No module named 'torch._strobelight'",
     "output_type": "error",
     "traceback": [
      "\u001b[0;31m---------------------------------------------------------------------------\u001b[0m",
      "\u001b[0;31mModuleNotFoundError\u001b[0m                       Traceback (most recent call last)",
      "Cell \u001b[0;32mIn[1], line 1\u001b[0m\n\u001b[0;32m----> 1\u001b[0m \u001b[38;5;28;01mimport\u001b[39;00m \u001b[38;5;21;01mtorch\u001b[39;00m\n",
      "File \u001b[0;32m~/.local/lib/python3.10/site-packages/torch/__init__.py:33\u001b[0m\n\u001b[1;32m     31\u001b[0m \u001b[38;5;28;01mfrom\u001b[39;00m \u001b[38;5;21;01m.\u001b[39;00m\u001b[38;5;21;01m_utils\u001b[39;00m \u001b[38;5;28;01mimport\u001b[39;00m _import_dotted_name, classproperty\n\u001b[1;32m     32\u001b[0m \u001b[38;5;28;01mfrom\u001b[39;00m \u001b[38;5;21;01m.\u001b[39;00m\u001b[38;5;21;01m_utils\u001b[39;00m \u001b[38;5;28;01mimport\u001b[39;00m _functionalize_sync \u001b[38;5;28;01mas\u001b[39;00m _sync\n\u001b[0;32m---> 33\u001b[0m \u001b[38;5;28;01mfrom\u001b[39;00m \u001b[38;5;21;01m.\u001b[39;00m\u001b[38;5;21;01m_utils_internal\u001b[39;00m \u001b[38;5;28;01mimport\u001b[39;00m get_file_path, prepare_multiprocessing_environment, \\\n\u001b[1;32m     34\u001b[0m     USE_RTLD_GLOBAL_WITH_LIBTORCH, USE_GLOBAL_DEPS\n\u001b[1;32m     36\u001b[0m \u001b[38;5;66;03m# TODO(torch_deploy) figure out how to freeze version.py in fbcode build\u001b[39;00m\n\u001b[1;32m     37\u001b[0m \u001b[38;5;28;01mif\u001b[39;00m _running_with_deploy():\n",
      "File \u001b[0;32m~/.local/lib/python3.10/site-packages/torch/_utils_internal.py:10\u001b[0m\n\u001b[1;32m      7\u001b[0m \u001b[38;5;28;01mfrom\u001b[39;00m \u001b[38;5;21;01mtyping\u001b[39;00m \u001b[38;5;28;01mimport\u001b[39;00m Any, Dict, Optional\n\u001b[1;32m      9\u001b[0m \u001b[38;5;28;01mimport\u001b[39;00m \u001b[38;5;21;01mtorch\u001b[39;00m\n\u001b[0;32m---> 10\u001b[0m \u001b[38;5;28;01mfrom\u001b[39;00m \u001b[38;5;21;01mtorch\u001b[39;00m\u001b[38;5;21;01m.\u001b[39;00m\u001b[38;5;21;01m_strobelight\u001b[39;00m\u001b[38;5;21;01m.\u001b[39;00m\u001b[38;5;21;01mcompile_time_profiler\u001b[39;00m \u001b[38;5;28;01mimport\u001b[39;00m StrobelightCompileTimeProfiler\n\u001b[1;32m     12\u001b[0m log \u001b[38;5;241m=\u001b[39m logging\u001b[38;5;241m.\u001b[39mgetLogger(\u001b[38;5;18m__name__\u001b[39m)\n\u001b[1;32m     14\u001b[0m \u001b[38;5;28;01mif\u001b[39;00m os\u001b[38;5;241m.\u001b[39menviron\u001b[38;5;241m.\u001b[39mget(\u001b[38;5;124m\"\u001b[39m\u001b[38;5;124mTORCH_COMPILE_STROBELIGHT\u001b[39m\u001b[38;5;124m\"\u001b[39m, \u001b[38;5;28;01mFalse\u001b[39;00m):\n",
      "\u001b[0;31mModuleNotFoundError\u001b[0m: No module named 'torch._strobelight'"
     ]
    }
   ],
   "source": [
    "import torch"
   ]
  },
  {
   "cell_type": "code",
   "execution_count": 3,
   "metadata": {},
   "outputs": [
    {
     "ename": "NameError",
     "evalue": "name 'torch' is not defined",
     "output_type": "error",
     "traceback": [
      "\u001b[0;31m---------------------------------------------------------------------------\u001b[0m",
      "\u001b[0;31mNameError\u001b[0m                                 Traceback (most recent call last)",
      "Cell \u001b[0;32mIn[3], line 3\u001b[0m\n\u001b[1;32m      1\u001b[0m data_path \u001b[38;5;241m=\u001b[39m \u001b[38;5;124m\"\u001b[39m\u001b[38;5;124m/home/lab/Documents/scsv/thesis/YesPoSplat/datasets/re10k_depth/train/000015.torch\u001b[39m\u001b[38;5;124m\"\u001b[39m\n\u001b[0;32m----> 3\u001b[0m data \u001b[38;5;241m=\u001b[39m \u001b[43mtorch\u001b[49m\u001b[38;5;241m.\u001b[39mload(data_path)\n",
      "\u001b[0;31mNameError\u001b[0m: name 'torch' is not defined"
     ]
    }
   ],
   "source": [
    "data_path = \"/home/lab/Documents/scsv/thesis/YesPoSplat/datasets/re10k_depth/train/000015.torch\"\n",
    "\n",
    "data = torch.load(data_path)"
   ]
  },
  {
   "cell_type": "code",
   "execution_count": null,
   "metadata": {},
   "outputs": [],
   "source": [
    "len(data[4]['images'])  "
   ]
  },
  {
   "cell_type": "code",
   "execution_count": null,
   "metadata": {},
   "outputs": [],
   "source": [
    "data[0]['images'][2].shape[0]"
   ]
  },
  {
   "cell_type": "code",
   "execution_count": null,
   "metadata": {},
   "outputs": [],
   "source": [
    "data[0][\"depth_images\"]"
   ]
  },
  {
   "cell_type": "code",
   "execution_count": null,
   "metadata": {},
   "outputs": [],
   "source": []
  },
  {
   "cell_type": "code",
   "execution_count": null,
   "metadata": {},
   "outputs": [],
   "source": [
    "import numpy as np\n",
    "from PIL import Image\n",
    "import matplotlib.pyplot as plt\n",
    "import io\n",
    "\n",
    "def tensor_to_image(tensor):\n",
    "    \"\"\"\n",
    "    Converts a PyTorch tensor containing JPEG byte data to a PIL Image.\n",
    "    \n",
    "    Args:\n",
    "        tensor (torch.Tensor): A 1D tensor of type torch.uint8 representing JPEG bytes.\n",
    "    \n",
    "    Returns:\n",
    "        PIL.Image.Image: The decoded image.\n",
    "    \"\"\"\n",
    "    # Ensure the tensor is on CPU and convert to NumPy array\n",
    "    byte_array = tensor.cpu().numpy().tobytes()\n",
    "    \n",
    "    # Use BytesIO to handle the byte data\n",
    "    image_stream = io.BytesIO(byte_array)\n",
    "    \n",
    "    # Open the image using PIL\n",
    "    try:\n",
    "        image = Image.open(image_stream)\n",
    "        # Ensure the image is loaded before closing the stream\n",
    "        image.load()\n",
    "        return image\n",
    "    except Exception as e:\n",
    "        print(f\"Error loading image: {e}\")\n",
    "        return None\n",
    "\n",
    "def display_images(image_list):\n",
    "    \"\"\"\n",
    "    Displays a list of PIL Images using matplotlib.\n",
    "    \n",
    "    Args:\n",
    "        image_list (list of PIL.Image.Image): The images to display.\n",
    "    \"\"\"\n",
    "    num_images = len(image_list)\n",
    "    if num_images == 0:\n",
    "        print(\"No images to display.\")\n",
    "        return\n",
    "    \n",
    "    # Determine the grid size for display\n",
    "    cols = min(3, num_images)\n",
    "    rows = (num_images + cols - 1) // cols\n",
    "    \n",
    "    plt.figure(figsize=(5 * cols, 5 * rows))\n",
    "    \n",
    "    for idx, img in enumerate(image_list):\n",
    "        if img is None:\n",
    "            continue\n",
    "        plt.subplot(rows, cols, idx + 1)\n",
    "        plt.imshow(img)\n",
    "        plt.axis('off')\n",
    "        plt.title(f'Image {idx + 1}')\n",
    "    \n",
    "    plt.tight_layout()\n",
    "    plt.show()\n",
    "\n",
    "# Convert all tensors to images\n",
    "decoded_images = [tensor_to_image(tensor) for tensor in data[0]['images'][0:2]]\n",
    "\n",
    "# Display the images\n",
    "display_images(decoded_images)"
   ]
  },
  {
   "cell_type": "code",
   "execution_count": null,
   "metadata": {},
   "outputs": [],
   "source": [
    "import torch\n",
    "import io\n",
    "import numpy as np\n",
    "from PIL import Image\n",
    "import matplotlib.pyplot as plt\n",
    "\n",
    "def tensor_to_image(tensor):\n",
    "    \"\"\"\n",
    "    Converts a PyTorch tensor containing JPEG byte data to a PIL Image.\n",
    "    \n",
    "    Args:\n",
    "        tensor (torch.Tensor): A 1D tensor of type torch.uint8 representing JPEG bytes.\n",
    "    \n",
    "    Returns:\n",
    "        PIL.Image.Image: The decoded image or None if decoding fails.\n",
    "    \"\"\"\n",
    "    try:\n",
    "        byte_array = tensor.cpu().numpy().tobytes()\n",
    "        image_stream = io.BytesIO(byte_array)\n",
    "        image = Image.open(image_stream)\n",
    "        image.load()\n",
    "        return image\n",
    "    except:\n",
    "        return None\n",
    "\n",
    "def visualize_image_depth_pair(rgb_image, depth_tensor, index=0):\n",
    "    \"\"\"\n",
    "    Displays an RGB image next to its depth map.\n",
    "    Depth map is assumed to be a 2D numpy array (H, W).\n",
    "    \"\"\"\n",
    "    fig, axs = plt.subplots(1, 2, figsize=(10, 5))\n",
    "    \n",
    "    # Show the RGB image\n",
    "    axs[0].imshow(rgb_image)\n",
    "    axs[0].set_title(f\"RGB Image {index}\")\n",
    "    axs[0].axis('off')\n",
    "    \n",
    "    # Convert depth tensor to numpy\n",
    "    depth_map = depth_tensor.cpu().numpy()\n",
    "    \n",
    "    # Display depth with a colormap\n",
    "    axs[1].imshow(depth_map, cmap='magma')\n",
    "    axs[1].set_title(f\"Depth {index}\")\n",
    "    axs[1].axis('off')\n",
    "    \n",
    "    plt.tight_layout()\n",
    "    plt.show()\n",
    "\n",
    "\n",
    "    # Example: load a .torch file\n",
    "#data = torch.load(\"your_data_file.torch\")  # replace with your file path\n",
    "\n",
    "# Suppose images are in data[0]['images'] and depth maps in data[0]['depth_images']\n",
    "images_tensors = data[0]['images']        # list of image tensors (encoded JPEG bytes)\n",
    "depth_tensors = data[0]['depth_images']   # list of 2D depth tensors\n",
    "\n",
    "# Decode images\n",
    "decoded_images = [tensor_to_image(t) for t in images_tensors]\n",
    "\n",
    "# Display each pair\n",
    "for i, (rgb, depth) in enumerate(zip(decoded_images, depth_tensors)):\n",
    "    if rgb is not None and depth is not None:\n",
    "        visualize_image_depth_pair(rgb, depth, index=i)\n",
    "    else:\n",
    "        print(f\"Skipping pair {i} due to missing RGB or depth.\")\n"
   ]
  },
  {
   "cell_type": "code",
   "execution_count": null,
   "metadata": {},
   "outputs": [],
   "source": []
  }
 ],
 "metadata": {
  "kernelspec": {
   "display_name": "Python 3",
   "language": "python",
   "name": "python3"
  },
  "language_info": {
   "codemirror_mode": {
    "name": "ipython",
    "version": 3
   },
   "file_extension": ".py",
   "mimetype": "text/x-python",
   "name": "python",
   "nbconvert_exporter": "python",
   "pygments_lexer": "ipython3",
   "version": "3.10.16"
  }
 },
 "nbformat": 4,
 "nbformat_minor": 2
}
